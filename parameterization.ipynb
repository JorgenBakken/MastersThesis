{
 "cells": [
  {
   "cell_type": "code",
   "execution_count": null,
   "metadata": {},
   "outputs": [],
   "source": [
    "import numpy as np\n",
    "import matplotlib.pyplot as plt\n",
    "\n",
    "def is_diff_plus(c): \n",
    "    if c[0] != 0: \n",
    "        print('c[0] != 0')\n",
    "        return False\n",
    "    if c[-1] != 1: \n",
    "        print(f'c[-1] != 1')\n",
    "        print(c[-1])\n",
    "        return False\n",
    "    if np.diff(c).min() < 0: \n",
    "        print('np.diff(c).min() < 0')\n",
    "        return False\n",
    "    return True\n",
    "\n",
    "def basis_function(n,x): \n",
    "    return np.sin(n*np.pi*x) / (n * np.pi)\n",
    "\n",
    "def I(x): \n",
    "    return x \n",
    "\n",
    "def varphi_func(x, I, f, *args):\n",
    "    return I(x) + f(x, *args)\n",
    "\n",
    "def pi(w, epsilon):\n",
    "    norm_w = np.linalg.norm(w, 1)\n",
    "    # if norm_w > 1 - epsilon:\n",
    "    #     print(f\"norm_w: {norm_w}\")\n",
    "    scaling_factor = (1 - epsilon) / max(1 - epsilon, norm_w)\n",
    "    return scaling_factor * w\n",
    "\n",
    "def generate_and_transform_weights(random, epsilon, M, std):\n",
    "    if random: weights = np.random.normal(0, std, M - 1)\n",
    "    else: weights = np.ones(M - 1)\n",
    "    weights = pi(weights, epsilon)\n",
    "    return weights\n",
    "\n",
    "def generate_delta_from_basis(x, M, random=True, epsilon=1e-8, std = 1):\n",
    "    weights = generate_and_transform_weights(random, epsilon, M, std)\n",
    "    delta = sum(weights[j - 1] * basis_function(j, x) for j in range(1, M))\n",
    "    delta[np.abs(delta) < 1e-15] = 0\n",
    "    return delta\n",
    "\n",
    "x = np.linspace(0, 1, 100)\n",
    "for i in range(1):\n",
    "    M = 4\n",
    "    random = True\n",
    "    epsilon = 1e-8\n",
    "    std = 2\n",
    "    varphi_x = varphi_func(x, I, generate_delta_from_basis, M, random, epsilon, std)\n",
    "    if not is_diff_plus(varphi_x):\n",
    "        print(f\"{i}th function is not diff+\")\n",
    "        # print(f\"Max: {y.max()}\")\n",
    "        # print(f\"Min: {y.min()}\")\n",
    "    plt.plot(x, varphi_x, label='$f_l(x) = \\\\sum_{j=1}^M w_{l,j} \\\\varphi_j(x)$')\n",
    "plt.show()"
   ]
  },
  {
   "cell_type": "code",
   "execution_count": null,
   "metadata": {},
   "outputs": [],
   "source": [
    "np.random.seed(2)\n",
    "M = 4\n",
    "random = True\n",
    "epsilon = 1e-8\n",
    "std = 2\n",
    "varphi_x = varphi_func(x, I, generate_delta_from_basis, M, random, epsilon, std)\n",
    "if not is_diff_plus(varphi_x):\n",
    "    print(f\"{i}th function is not diff+\")\n",
    "plt.plot(x, varphi_x, label='$f_l(x) = \\\\sum_{j=1}^M w_{l,j} \\\\varphi_j(x)$')\n",
    "plt.show()"
   ]
  },
  {
   "cell_type": "code",
   "execution_count": null,
   "metadata": {},
   "outputs": [],
   "source": [
    "np.random.seed(3)\n",
    "M = 4\n",
    "random = True\n",
    "epsilon = 1e-8\n",
    "std = 2\n",
    "varphi_x = varphi_func(x, I, generate_delta_from_basis, M, random, epsilon, std)\n",
    "if not is_diff_plus(varphi_x):\n",
    "    print(f\"{i}th function is not diff+\")\n",
    "plt.plot(x, varphi_x, label='$f_l(x) = \\\\sum_{j=1}^M w_{l,j} \\\\varphi_j(x)$')\n",
    "plt.show()"
   ]
  },
  {
   "cell_type": "code",
   "execution_count": null,
   "metadata": {},
   "outputs": [],
   "source": [
    "np.random.seed(5)\n",
    "M = 4\n",
    "random = True\n",
    "epsilon = 1e-8\n",
    "std = 2\n",
    "varphi_x = varphi_func(x, I, generate_delta_from_basis, M, random, epsilon, std)\n",
    "if not is_diff_plus(varphi_x):\n",
    "    print(f\"{i}th function is not diff+\")\n",
    "plt.plot(x, varphi_x, label='$f_l(x) = \\\\sum_{j=1}^M w_{l,j} \\\\varphi_j(x)$')\n",
    "plt.show()"
   ]
  }
 ],
 "metadata": {
  "kernelspec": {
   "display_name": ".venv",
   "language": "python",
   "name": "python3"
  },
  "language_info": {
   "codemirror_mode": {
    "name": "ipython",
    "version": 3
   },
   "file_extension": ".py",
   "mimetype": "text/x-python",
   "name": "python",
   "nbconvert_exporter": "python",
   "pygments_lexer": "ipython3",
   "version": "3.9.13"
  }
 },
 "nbformat": 4,
 "nbformat_minor": 2
}
